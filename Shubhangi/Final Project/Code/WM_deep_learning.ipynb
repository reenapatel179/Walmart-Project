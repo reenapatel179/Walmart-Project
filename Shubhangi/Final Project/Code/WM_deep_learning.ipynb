{
 "cells": [
  {
   "cell_type": "code",
   "execution_count": 11,
   "metadata": {},
   "outputs": [],
   "source": [
    "import pandas as pd"
   ]
  },
  {
   "cell_type": "code",
   "execution_count": 12,
   "metadata": {},
   "outputs": [
    {
     "data": {
      "text/html": [
       "<div>\n",
       "<style scoped>\n",
       "    .dataframe tbody tr th:only-of-type {\n",
       "        vertical-align: middle;\n",
       "    }\n",
       "\n",
       "    .dataframe tbody tr th {\n",
       "        vertical-align: top;\n",
       "    }\n",
       "\n",
       "    .dataframe thead th {\n",
       "        text-align: right;\n",
       "    }\n",
       "</style>\n",
       "<table border=\"1\" class=\"dataframe\">\n",
       "  <thead>\n",
       "    <tr style=\"text-align: right;\">\n",
       "      <th></th>\n",
       "      <th>Store</th>\n",
       "      <th>Dept</th>\n",
       "      <th>Date</th>\n",
       "      <th>Weekly_Sales</th>\n",
       "      <th>IsHoliday</th>\n",
       "    </tr>\n",
       "  </thead>\n",
       "  <tbody>\n",
       "    <tr>\n",
       "      <th>0</th>\n",
       "      <td>1</td>\n",
       "      <td>1</td>\n",
       "      <td>2010-02-05</td>\n",
       "      <td>24924.50</td>\n",
       "      <td>False</td>\n",
       "    </tr>\n",
       "    <tr>\n",
       "      <th>1</th>\n",
       "      <td>1</td>\n",
       "      <td>1</td>\n",
       "      <td>2010-02-12</td>\n",
       "      <td>46039.49</td>\n",
       "      <td>True</td>\n",
       "    </tr>\n",
       "    <tr>\n",
       "      <th>2</th>\n",
       "      <td>1</td>\n",
       "      <td>1</td>\n",
       "      <td>2010-02-19</td>\n",
       "      <td>41595.55</td>\n",
       "      <td>False</td>\n",
       "    </tr>\n",
       "    <tr>\n",
       "      <th>3</th>\n",
       "      <td>1</td>\n",
       "      <td>1</td>\n",
       "      <td>2010-02-26</td>\n",
       "      <td>19403.54</td>\n",
       "      <td>False</td>\n",
       "    </tr>\n",
       "    <tr>\n",
       "      <th>4</th>\n",
       "      <td>1</td>\n",
       "      <td>1</td>\n",
       "      <td>2010-03-05</td>\n",
       "      <td>21827.90</td>\n",
       "      <td>False</td>\n",
       "    </tr>\n",
       "  </tbody>\n",
       "</table>\n",
       "</div>"
      ],
      "text/plain": [
       "   Store  Dept        Date  Weekly_Sales  IsHoliday\n",
       "0      1     1  2010-02-05      24924.50      False\n",
       "1      1     1  2010-02-12      46039.49       True\n",
       "2      1     1  2010-02-19      41595.55      False\n",
       "3      1     1  2010-02-26      19403.54      False\n",
       "4      1     1  2010-03-05      21827.90      False"
      ]
     },
     "execution_count": 12,
     "metadata": {},
     "output_type": "execute_result"
    }
   ],
   "source": [
    "df = pd.read_csv('../Resources/train.csv')\n",
    "# Drop the null columns where all values are null\n",
    "df = df.dropna(axis='columns', how='all')\n",
    "# Drop the null rows\n",
    "df = df.dropna()\n",
    "df.head()"
   ]
  },
  {
   "cell_type": "code",
   "execution_count": 13,
   "metadata": {},
   "outputs": [],
   "source": [
    "df[\"Date\"] = pd.to_datetime(df[\"Date\"])\n",
    "df[\"Date\"] = pd.to_numeric(df[\"Date\"])"
   ]
  },
  {
   "cell_type": "code",
   "execution_count": 14,
   "metadata": {},
   "outputs": [],
   "source": [
    "from sklearn.model_selection import train_test_split\n",
    "y = df[\"IsHoliday\"]\n",
    "X = df.drop(columns=[\"IsHoliday\"])\n",
    "\n",
    "X_train, X_test, y_train, y_test = train_test_split(X, y, random_state=1, stratify=y)"
   ]
  },
  {
   "cell_type": "code",
   "execution_count": 15,
   "metadata": {},
   "outputs": [
    {
     "data": {
      "text/html": [
       "<div>\n",
       "<style scoped>\n",
       "    .dataframe tbody tr th:only-of-type {\n",
       "        vertical-align: middle;\n",
       "    }\n",
       "\n",
       "    .dataframe tbody tr th {\n",
       "        vertical-align: top;\n",
       "    }\n",
       "\n",
       "    .dataframe thead th {\n",
       "        text-align: right;\n",
       "    }\n",
       "</style>\n",
       "<table border=\"1\" class=\"dataframe\">\n",
       "  <thead>\n",
       "    <tr style=\"text-align: right;\">\n",
       "      <th></th>\n",
       "      <th>Store</th>\n",
       "      <th>Dept</th>\n",
       "      <th>Date</th>\n",
       "      <th>Weekly_Sales</th>\n",
       "    </tr>\n",
       "  </thead>\n",
       "  <tbody>\n",
       "    <tr>\n",
       "      <th>288095</th>\n",
       "      <td>30</td>\n",
       "      <td>11</td>\n",
       "      <td>1346371200000000000</td>\n",
       "      <td>616.37</td>\n",
       "    </tr>\n",
       "    <tr>\n",
       "      <th>307561</th>\n",
       "      <td>32</td>\n",
       "      <td>28</td>\n",
       "      <td>1278633600000000000</td>\n",
       "      <td>323.94</td>\n",
       "    </tr>\n",
       "    <tr>\n",
       "      <th>266695</th>\n",
       "      <td>27</td>\n",
       "      <td>97</td>\n",
       "      <td>1288310400000000000</td>\n",
       "      <td>19290.44</td>\n",
       "    </tr>\n",
       "    <tr>\n",
       "      <th>161724</th>\n",
       "      <td>17</td>\n",
       "      <td>32</td>\n",
       "      <td>1278028800000000000</td>\n",
       "      <td>5856.51</td>\n",
       "    </tr>\n",
       "    <tr>\n",
       "      <th>55059</th>\n",
       "      <td>6</td>\n",
       "      <td>49</td>\n",
       "      <td>1306454400000000000</td>\n",
       "      <td>10184.33</td>\n",
       "    </tr>\n",
       "  </tbody>\n",
       "</table>\n",
       "</div>"
      ],
      "text/plain": [
       "        Store  Dept                 Date  Weekly_Sales\n",
       "288095     30    11  1346371200000000000        616.37\n",
       "307561     32    28  1278633600000000000        323.94\n",
       "266695     27    97  1288310400000000000      19290.44\n",
       "161724     17    32  1278028800000000000       5856.51\n",
       "55059       6    49  1306454400000000000      10184.33"
      ]
     },
     "execution_count": 15,
     "metadata": {},
     "output_type": "execute_result"
    }
   ],
   "source": [
    "X_train.head()"
   ]
  },
  {
   "cell_type": "code",
   "execution_count": 16,
   "metadata": {},
   "outputs": [
    {
     "data": {
      "text/plain": [
       "Store             int64\n",
       "Dept              int64\n",
       "Date              int64\n",
       "Weekly_Sales    float64\n",
       "dtype: object"
      ]
     },
     "execution_count": 16,
     "metadata": {},
     "output_type": "execute_result"
    }
   ],
   "source": [
    "X_train.dtypes"
   ]
  },
  {
   "cell_type": "code",
   "execution_count": null,
   "metadata": {},
   "outputs": [],
   "source": [
    "train[\"Date\"] = pd.to_datetime(train[\"Date\"])"
   ]
  },
  {
   "cell_type": "code",
   "execution_count": 17,
   "metadata": {},
   "outputs": [
    {
     "name": "stderr",
     "output_type": "stream",
     "text": [
      "C:\\Users\\Shubha\\AppData\\Local\\conda\\conda\\envs\\PythonData\\lib\\site-packages\\sklearn\\preprocessing\\data.py:334: DataConversionWarning: Data with input dtype int64, float64 were all converted to float64 by MinMaxScaler.\n",
      "  return self.partial_fit(X, y)\n"
     ]
    }
   ],
   "source": [
    "#Pre-processing\n",
    "#Scale the data using LabelEncoder and MinMaxScaler\n",
    "from sklearn.preprocessing import MinMaxScaler\n",
    "X_scaler = MinMaxScaler().fit(X_train)\n",
    "\n",
    "X_train_scaled = X_scaler.transform(X_train)\n",
    "X_test_scaled = X_scaler.transform(X_test)"
   ]
  },
  {
   "cell_type": "code",
   "execution_count": 18,
   "metadata": {},
   "outputs": [],
   "source": [
    "\n",
    "import tensorflow as tf\n",
    "from keras.models import Sequential\n",
    "from keras.utils import to_categorical\n",
    "from keras.layers import Dense\n",
    "from sklearn.preprocessing import LabelEncoder\n",
    "from keras.callbacks import EarlyStopping"
   ]
  },
  {
   "cell_type": "code",
   "execution_count": 19,
   "metadata": {},
   "outputs": [],
   "source": [
    "label_encoder = LabelEncoder()\n",
    "label_encoder.fit(y_train)\n",
    "encoded_y_train = label_encoder.transform(y_train)\n",
    "encoded_y_test = label_encoder.transform(y_test)\n",
    "\n",
    "y_train_categorical = to_categorical(encoded_y_train)\n",
    "y_test_categorical = to_categorical(encoded_y_test)\n"
   ]
  },
  {
   "cell_type": "code",
   "execution_count": 20,
   "metadata": {},
   "outputs": [
    {
     "data": {
      "text/plain": [
       "(316177, 2)"
      ]
     },
     "execution_count": 20,
     "metadata": {},
     "output_type": "execute_result"
    }
   ],
   "source": [
    "y_train_categorical.shape"
   ]
  },
  {
   "cell_type": "code",
   "execution_count": 29,
   "metadata": {},
   "outputs": [],
   "source": [
    "# Train the Model\n",
    "model = Sequential()\n",
    "model.add(Dense(units=100, activation='relu', input_dim=4))\n",
    "model.add(Dense(units=100, activation='relu'))\n",
    "model.add(Dense(units=2, activation='softmax'))"
   ]
  },
  {
   "cell_type": "code",
   "execution_count": 30,
   "metadata": {},
   "outputs": [],
   "source": [
    "# Compile and fit the model\n",
    "model.compile(optimizer='adam',\n",
    "              loss='categorical_crossentropy',\n",
    "              metrics=['accuracy'])"
   ]
  },
  {
   "cell_type": "code",
   "execution_count": 31,
   "metadata": {},
   "outputs": [
    {
     "name": "stdout",
     "output_type": "stream",
     "text": [
      "Model: \"sequential_3\"\n",
      "_________________________________________________________________\n",
      "Layer (type)                 Output Shape              Param #   \n",
      "=================================================================\n",
      "dense_7 (Dense)              (None, 100)               500       \n",
      "_________________________________________________________________\n",
      "dense_8 (Dense)              (None, 100)               10100     \n",
      "_________________________________________________________________\n",
      "dense_9 (Dense)              (None, 2)                 202       \n",
      "=================================================================\n",
      "Total params: 10,802\n",
      "Trainable params: 10,802\n",
      "Non-trainable params: 0\n",
      "_________________________________________________________________\n"
     ]
    }
   ],
   "source": [
    "model.summary()"
   ]
  },
  {
   "cell_type": "code",
   "execution_count": 32,
   "metadata": {},
   "outputs": [
    {
     "name": "stdout",
     "output_type": "stream",
     "text": [
      "WARNING:tensorflow:From C:\\Users\\Shubha\\AppData\\Local\\conda\\conda\\envs\\PythonData\\lib\\site-packages\\tensorflow\\python\\ops\\math_grad.py:1250: add_dispatch_support.<locals>.wrapper (from tensorflow.python.ops.array_ops) is deprecated and will be removed in a future version.\n",
      "Instructions for updating:\n",
      "Use tf.where in 2.0, which has the same broadcast rule as np.where\n",
      "WARNING:tensorflow:From C:\\Users\\Shubha\\AppData\\Local\\conda\\conda\\envs\\PythonData\\lib\\site-packages\\keras\\backend\\tensorflow_backend.py:1033: The name tf.assign_add is deprecated. Please use tf.compat.v1.assign_add instead.\n",
      "\n",
      "Epoch 1/60\n",
      " - 20s - loss: 0.2428 - acc: 0.9289\n",
      "Epoch 2/60\n"
     ]
    },
    {
     "name": "stderr",
     "output_type": "stream",
     "text": [
      "C:\\Users\\Shubha\\AppData\\Local\\conda\\conda\\envs\\PythonData\\lib\\site-packages\\keras\\callbacks.py:842: RuntimeWarning: Early stopping conditioned on metric `val_loss` which is not available. Available metrics are: loss,acc\n",
      "  (self.monitor, ','.join(list(logs.keys()))), RuntimeWarning\n"
     ]
    },
    {
     "name": "stdout",
     "output_type": "stream",
     "text": [
      " - 19s - loss: 0.2211 - acc: 0.9278\n",
      "Epoch 3/60\n",
      " - 18s - loss: 0.2091 - acc: 0.9314\n",
      "Epoch 4/60\n",
      " - 18s - loss: 0.1956 - acc: 0.9364\n",
      "Epoch 5/60\n",
      " - 18s - loss: 0.1831 - acc: 0.9367\n",
      "Epoch 6/60\n",
      " - 18s - loss: 0.1761 - acc: 0.9379\n",
      "Epoch 7/60\n",
      " - 18s - loss: 0.1706 - acc: 0.9390\n",
      "Epoch 8/60\n",
      " - 18s - loss: 0.1648 - acc: 0.9402\n",
      "Epoch 9/60\n",
      " - 18s - loss: 0.1595 - acc: 0.9414\n",
      "Epoch 10/60\n",
      " - 18s - loss: 0.1588 - acc: 0.9419\n",
      "Epoch 11/60\n",
      " - 18s - loss: 0.2347 - acc: 0.9376\n",
      "Epoch 12/60\n",
      " - 18s - loss: 0.2610 - acc: 0.9361\n",
      "Epoch 13/60\n",
      " - 18s - loss: 0.2581 - acc: 0.9366\n",
      "Epoch 14/60\n",
      " - 18s - loss: 0.2517 - acc: 0.9380\n",
      "Epoch 15/60\n",
      " - 18s - loss: 0.2589 - acc: 0.9394\n",
      "Epoch 16/60\n",
      " - 18s - loss: 0.3647 - acc: 0.9311\n",
      "Epoch 17/60\n",
      " - 18s - loss: 0.3691 - acc: 0.9306\n",
      "Epoch 18/60\n",
      " - 18s - loss: 0.3712 - acc: 0.9309\n",
      "Epoch 19/60\n",
      " - 18s - loss: 0.3725 - acc: 0.9297\n",
      "Epoch 20/60\n",
      " - 18s - loss: 0.3677 - acc: 0.9305\n",
      "Epoch 21/60\n",
      " - 18s - loss: 0.3609 - acc: 0.9332\n",
      "Epoch 22/60\n",
      " - 18s - loss: 0.3582 - acc: 0.9330\n",
      "Epoch 23/60\n",
      " - 18s - loss: 0.3524 - acc: 0.9368\n",
      "Epoch 24/60\n",
      " - 18s - loss: 0.3509 - acc: 0.9383\n",
      "Epoch 25/60\n",
      " - 18s - loss: 0.3460 - acc: 0.9405\n",
      "Epoch 26/60\n",
      " - 18s - loss: 0.3465 - acc: 0.9397\n",
      "Epoch 27/60\n",
      " - 18s - loss: 0.3421 - acc: 0.9424\n",
      "Epoch 28/60\n",
      " - 18s - loss: 0.3385 - acc: 0.9437\n",
      "Epoch 29/60\n",
      " - 18s - loss: 0.3376 - acc: 0.9431\n",
      "Epoch 30/60\n",
      " - 18s - loss: 0.3373 - acc: 0.9417\n",
      "Epoch 31/60\n",
      " - 18s - loss: 0.3350 - acc: 0.9408\n",
      "Epoch 32/60\n",
      " - 18s - loss: 0.3314 - acc: 0.9417\n",
      "Epoch 33/60\n",
      " - 18s - loss: 0.3272 - acc: 0.9442\n",
      "Epoch 34/60\n",
      " - 18s - loss: 0.3243 - acc: 0.9462\n",
      "Epoch 35/60\n",
      " - 18s - loss: 0.3356 - acc: 0.9393\n",
      "Epoch 36/60\n",
      " - 18s - loss: 0.3347 - acc: 0.9406\n",
      "Epoch 37/60\n",
      " - 18s - loss: 0.3402 - acc: 0.9380\n",
      "Epoch 38/60\n",
      " - 18s - loss: 0.3380 - acc: 0.9380\n",
      "Epoch 39/60\n",
      " - 18s - loss: 0.3338 - acc: 0.9397\n",
      "Epoch 40/60\n",
      " - 18s - loss: 0.3314 - acc: 0.9407\n",
      "Epoch 41/60\n",
      " - 18s - loss: 0.3287 - acc: 0.9417\n",
      "Epoch 42/60\n",
      " - 18s - loss: 0.3264 - acc: 0.9429\n",
      "Epoch 43/60\n",
      " - 18s - loss: 0.3259 - acc: 0.9438\n",
      "Epoch 44/60\n",
      " - 18s - loss: 0.3259 - acc: 0.9441\n",
      "Epoch 45/60\n",
      " - 18s - loss: 0.3290 - acc: 0.9438\n",
      "Epoch 46/60\n",
      " - 18s - loss: 0.3683 - acc: 0.9395\n",
      "Epoch 47/60\n",
      " - 18s - loss: 0.3689 - acc: 0.9432\n",
      "Epoch 48/60\n",
      " - 18s - loss: 0.3218 - acc: 0.9494\n",
      "Epoch 49/60\n",
      " - 10s - loss: 0.3197 - acc: 0.9516\n",
      "Epoch 50/60\n",
      " - 16s - loss: 0.3156 - acc: 0.9526\n",
      "Epoch 51/60\n",
      " - 18s - loss: 0.3105 - acc: 0.9550\n",
      "Epoch 52/60\n",
      " - 17s - loss: 0.3057 - acc: 0.9564\n",
      "Epoch 53/60\n",
      " - 15s - loss: 0.3019 - acc: 0.9573\n",
      "Epoch 54/60\n",
      " - 17s - loss: 0.4208 - acc: 0.9438\n",
      "Epoch 55/60\n",
      " - 17s - loss: 0.4161 - acc: 0.9479\n",
      "Epoch 56/60\n",
      " - 16s - loss: 0.4145 - acc: 0.9496\n",
      "Epoch 57/60\n",
      " - 16s - loss: 0.4775 - acc: 0.9542\n",
      "Epoch 58/60\n",
      " - 16s - loss: 0.5047 - acc: 0.9528\n",
      "Epoch 59/60\n",
      " - 17s - loss: 0.4688 - acc: 0.9551\n",
      "Epoch 60/60\n",
      " - 16s - loss: 0.3898 - acc: 0.9606\n"
     ]
    },
    {
     "data": {
      "text/plain": [
       "<keras.callbacks.History at 0x1c191f7a940>"
      ]
     },
     "execution_count": 32,
     "metadata": {},
     "output_type": "execute_result"
    }
   ],
   "source": [
    "# set early stopping as callback\n",
    "callbacks = [EarlyStopping(monitor='val_loss', patience=2)]\n",
    "model.fit(\n",
    "    X_train_scaled,\n",
    "    y_train_categorical,\n",
    "    callbacks=callbacks,\n",
    "    epochs=60,\n",
    "    shuffle=True,\n",
    "    verbose=2\n",
    ")"
   ]
  },
  {
   "cell_type": "code",
   "execution_count": 33,
   "metadata": {},
   "outputs": [
    {
     "name": "stdout",
     "output_type": "stream",
     "text": [
      "Normal Neural Network - Loss: 0.3854605958014736, Accuracy: 0.9716869241795907\n"
     ]
    }
   ],
   "source": [
    "model_loss, model_accuracy = model.evaluate(\n",
    "    X_test_scaled, y_test_categorical, verbose=2)\n",
    "print(\n",
    "    f\"Normal Neural Network - Loss: {model_loss}, Accuracy: {model_accuracy}\")"
   ]
  },
  {
   "cell_type": "code",
   "execution_count": 43,
   "metadata": {},
   "outputs": [],
   "source": [
    "encoded_predictions = model.predict_classes(X_test_scaled)\n",
    "prediction_labels = label_encoder.inverse_transform(encoded_predictions)"
   ]
  },
  {
   "cell_type": "code",
   "execution_count": 44,
   "metadata": {},
   "outputs": [
    {
     "name": "stdout",
     "output_type": "stream",
     "text": [
      "Predicted classes: [False False False ... False False False]\n",
      "Actual Labels: 151791    False\n",
      "320215    False\n",
      "19956     False\n",
      "127545    False\n",
      "129732    False\n",
      "180707    False\n",
      "42161     False\n",
      "219432    False\n",
      "137145    False\n",
      "109125    False\n",
      "398144    False\n",
      "384502    False\n",
      "243414    False\n",
      "133706    False\n",
      "179719    False\n",
      "175260    False\n",
      "322386     True\n",
      "400475    False\n",
      "343836    False\n",
      "102243    False\n",
      "221179    False\n",
      "290243    False\n",
      "253183    False\n",
      "118482    False\n",
      "34563     False\n",
      "105358    False\n",
      "398656    False\n",
      "110673    False\n",
      "384872     True\n",
      "7089      False\n",
      "          ...  \n",
      "73618     False\n",
      "310844    False\n",
      "209979    False\n",
      "334870    False\n",
      "106880    False\n",
      "83216     False\n",
      "36538      True\n",
      "140426    False\n",
      "52712     False\n",
      "369783    False\n",
      "245221    False\n",
      "166334    False\n",
      "42631     False\n",
      "121329     True\n",
      "171387    False\n",
      "367364    False\n",
      "347175     True\n",
      "231744    False\n",
      "96797     False\n",
      "276957    False\n",
      "181918    False\n",
      "231223    False\n",
      "179274    False\n",
      "6665      False\n",
      "359475    False\n",
      "268681    False\n",
      "402598    False\n",
      "60180     False\n",
      "90782     False\n",
      "283519    False\n",
      "Name: IsHoliday, Length: 105393, dtype: bool\n"
     ]
    }
   ],
   "source": [
    "print(f\"Predicted classes: {prediction_labels}\")\n",
    "print(f\"Actual Labels: {y_test}\")"
   ]
  },
  {
   "cell_type": "code",
   "execution_count": 62,
   "metadata": {},
   "outputs": [
    {
     "ename": "KeyError",
     "evalue": "'IsHoliday'",
     "output_type": "error",
     "traceback": [
      "\u001b[1;31m---------------------------------------------------------------------------\u001b[0m",
      "\u001b[1;31mKeyError\u001b[0m                                  Traceback (most recent call last)",
      "\u001b[1;32m<ipython-input-62-e4771e65c67b>\u001b[0m in \u001b[0;36m<module>\u001b[1;34m\u001b[0m\n\u001b[1;32m----> 1\u001b[1;33m \u001b[0my_test\u001b[0m\u001b[1;33m[\u001b[0m\u001b[1;34m\"IsHoliday\"\u001b[0m\u001b[1;33m]\u001b[0m\u001b[1;33m\u001b[0m\u001b[1;33m\u001b[0m\u001b[0m\n\u001b[0m",
      "\u001b[1;32m~\\AppData\\Local\\conda\\conda\\envs\\PythonData\\lib\\site-packages\\pandas\\core\\series.py\u001b[0m in \u001b[0;36m__getitem__\u001b[1;34m(self, key)\u001b[0m\n\u001b[0;32m    866\u001b[0m         \u001b[0mkey\u001b[0m \u001b[1;33m=\u001b[0m \u001b[0mcom\u001b[0m\u001b[1;33m.\u001b[0m\u001b[0mapply_if_callable\u001b[0m\u001b[1;33m(\u001b[0m\u001b[0mkey\u001b[0m\u001b[1;33m,\u001b[0m \u001b[0mself\u001b[0m\u001b[1;33m)\u001b[0m\u001b[1;33m\u001b[0m\u001b[1;33m\u001b[0m\u001b[0m\n\u001b[0;32m    867\u001b[0m         \u001b[1;32mtry\u001b[0m\u001b[1;33m:\u001b[0m\u001b[1;33m\u001b[0m\u001b[1;33m\u001b[0m\u001b[0m\n\u001b[1;32m--> 868\u001b[1;33m             \u001b[0mresult\u001b[0m \u001b[1;33m=\u001b[0m \u001b[0mself\u001b[0m\u001b[1;33m.\u001b[0m\u001b[0mindex\u001b[0m\u001b[1;33m.\u001b[0m\u001b[0mget_value\u001b[0m\u001b[1;33m(\u001b[0m\u001b[0mself\u001b[0m\u001b[1;33m,\u001b[0m \u001b[0mkey\u001b[0m\u001b[1;33m)\u001b[0m\u001b[1;33m\u001b[0m\u001b[1;33m\u001b[0m\u001b[0m\n\u001b[0m\u001b[0;32m    869\u001b[0m \u001b[1;33m\u001b[0m\u001b[0m\n\u001b[0;32m    870\u001b[0m             \u001b[1;32mif\u001b[0m \u001b[1;32mnot\u001b[0m \u001b[0mis_scalar\u001b[0m\u001b[1;33m(\u001b[0m\u001b[0mresult\u001b[0m\u001b[1;33m)\u001b[0m\u001b[1;33m:\u001b[0m\u001b[1;33m\u001b[0m\u001b[1;33m\u001b[0m\u001b[0m\n",
      "\u001b[1;32m~\\AppData\\Local\\conda\\conda\\envs\\PythonData\\lib\\site-packages\\pandas\\core\\indexes\\base.py\u001b[0m in \u001b[0;36mget_value\u001b[1;34m(self, series, key)\u001b[0m\n\u001b[0;32m   4373\u001b[0m         \u001b[1;32mtry\u001b[0m\u001b[1;33m:\u001b[0m\u001b[1;33m\u001b[0m\u001b[1;33m\u001b[0m\u001b[0m\n\u001b[0;32m   4374\u001b[0m             return self._engine.get_value(s, k,\n\u001b[1;32m-> 4375\u001b[1;33m                                           tz=getattr(series.dtype, 'tz', None))\n\u001b[0m\u001b[0;32m   4376\u001b[0m         \u001b[1;32mexcept\u001b[0m \u001b[0mKeyError\u001b[0m \u001b[1;32mas\u001b[0m \u001b[0me1\u001b[0m\u001b[1;33m:\u001b[0m\u001b[1;33m\u001b[0m\u001b[1;33m\u001b[0m\u001b[0m\n\u001b[0;32m   4377\u001b[0m             \u001b[1;32mif\u001b[0m \u001b[0mlen\u001b[0m\u001b[1;33m(\u001b[0m\u001b[0mself\u001b[0m\u001b[1;33m)\u001b[0m \u001b[1;33m>\u001b[0m \u001b[1;36m0\u001b[0m \u001b[1;32mand\u001b[0m \u001b[1;33m(\u001b[0m\u001b[0mself\u001b[0m\u001b[1;33m.\u001b[0m\u001b[0mholds_integer\u001b[0m\u001b[1;33m(\u001b[0m\u001b[1;33m)\u001b[0m \u001b[1;32mor\u001b[0m \u001b[0mself\u001b[0m\u001b[1;33m.\u001b[0m\u001b[0mis_boolean\u001b[0m\u001b[1;33m(\u001b[0m\u001b[1;33m)\u001b[0m\u001b[1;33m)\u001b[0m\u001b[1;33m:\u001b[0m\u001b[1;33m\u001b[0m\u001b[1;33m\u001b[0m\u001b[0m\n",
      "\u001b[1;32mpandas/_libs/index.pyx\u001b[0m in \u001b[0;36mpandas._libs.index.IndexEngine.get_value\u001b[1;34m()\u001b[0m\n",
      "\u001b[1;32mpandas/_libs/index.pyx\u001b[0m in \u001b[0;36mpandas._libs.index.IndexEngine.get_value\u001b[1;34m()\u001b[0m\n",
      "\u001b[1;32mpandas/_libs/index.pyx\u001b[0m in \u001b[0;36mpandas._libs.index.IndexEngine.get_loc\u001b[1;34m()\u001b[0m\n",
      "\u001b[1;32mpandas/_libs/index_class_helper.pxi\u001b[0m in \u001b[0;36mpandas._libs.index.Int64Engine._check_type\u001b[1;34m()\u001b[0m\n",
      "\u001b[1;31mKeyError\u001b[0m: 'IsHoliday'"
     ]
    }
   ],
   "source": [
    "y_test[\"IsHoliday\"]"
   ]
  },
  {
   "cell_type": "code",
   "execution_count": null,
   "metadata": {},
   "outputs": [],
   "source": []
  }
 ],
 "metadata": {
  "kernelspec": {
   "display_name": "Python 3",
   "language": "python",
   "name": "python3"
  },
  "language_info": {
   "codemirror_mode": {
    "name": "ipython",
    "version": 3
   },
   "file_extension": ".py",
   "mimetype": "text/x-python",
   "name": "python",
   "nbconvert_exporter": "python",
   "pygments_lexer": "ipython3",
   "version": "3.6.8"
  }
 },
 "nbformat": 4,
 "nbformat_minor": 2
}
